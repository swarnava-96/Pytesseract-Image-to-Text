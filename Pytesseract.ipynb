{
 "cells": [
  {
   "cell_type": "markdown",
   "id": "b6279524",
   "metadata": {},
   "source": [
    "# Converting Images to Texts using Pytesseract"
   ]
  },
  {
   "cell_type": "code",
   "execution_count": 1,
   "id": "87859f18",
   "metadata": {},
   "outputs": [],
   "source": [
    "# Lets import the Pytesseract library and set the path\n",
    "import pytesseract\n",
    "pytesseract.pytesseract.tesseract_cmd = r\"C:\\Program Files\\Tesseract-OCR\\tesseract.exe\""
   ]
  },
  {
   "cell_type": "code",
   "execution_count": 2,
   "id": "3f4e43b1",
   "metadata": {},
   "outputs": [],
   "source": [
    "# Lets import cv2 for displaying and reading the images\n",
    "import cv2"
   ]
  },
  {
   "cell_type": "code",
   "execution_count": 3,
   "id": "a599ae13",
   "metadata": {},
   "outputs": [],
   "source": [
    "# Lets read one sample image\n",
    "img = cv2.imread(\"1.jpg\")\n",
    "# Lets display the image\n",
    "cv2.imshow(\"Sample Image\", img)\n",
    "# Lets close the image\n",
    "cv2.waitKey(0)\n",
    "cv2.destroyAllWindows()"
   ]
  },
  {
   "cell_type": "code",
   "execution_count": 4,
   "id": "4643bcce",
   "metadata": {},
   "outputs": [
    {
     "name": "stdout",
     "output_type": "stream",
     "text": [
      "The\n",
      "JOYof\n",
      "ex\n",
      "\f",
      "\n"
     ]
    }
   ],
   "source": [
    "# Lets convert the image to text\n",
    "text = pytesseract.image_to_string(img)\n",
    "print(text)"
   ]
  },
  {
   "cell_type": "markdown",
   "id": "4f3f05a8",
   "metadata": {},
   "source": [
    "We can see the library fails to read the text properly as the text background was not white. Lets use an image that has white background."
   ]
  },
  {
   "cell_type": "code",
   "execution_count": 5,
   "id": "16089824",
   "metadata": {},
   "outputs": [],
   "source": [
    "# Lets read one sample image\n",
    "img = cv2.imread(\"2.png\")\n",
    "# Lets display the image\n",
    "cv2.imshow(\"Sample Image\", img)\n",
    "# Lets close the image\n",
    "cv2.waitKey(0)\n",
    "cv2.destroyAllWindows()"
   ]
  },
  {
   "cell_type": "code",
   "execution_count": 6,
   "id": "61fc3ce5",
   "metadata": {},
   "outputs": [
    {
     "name": "stdout",
     "output_type": "stream",
     "text": [
      " \n",
      "\n",
      " \n",
      "\n",
      "Tomorrow, and\n",
      "tomorrow, and\n",
      "tomorrow; creeps\n",
      "‘in this petty pace\n",
      "from day to day,\n",
      "until the last syll-\n",
      "able of recorded\n",
      "time. And all our\n",
      "yesterdays have\n",
      "lighted fools the\n",
      "way to dusty\n",
      "\n",
      " \n",
      "\n",
      " \n",
      "\f",
      "\n"
     ]
    }
   ],
   "source": [
    "# Lets convert the image to text\n",
    "text = pytesseract.image_to_string(img)\n",
    "print(text)"
   ]
  },
  {
   "cell_type": "markdown",
   "id": "3adf9dfb",
   "metadata": {},
   "source": [
    "We can see that the library works absolutely fine. \n",
    "Lets try with hand writtings."
   ]
  },
  {
   "cell_type": "code",
   "execution_count": 7,
   "id": "11b1a248",
   "metadata": {},
   "outputs": [],
   "source": [
    "# Lets read one sample image\n",
    "img = cv2.imread(\"3.jpg\")\n",
    "# Lets display the image\n",
    "cv2.imshow(\"Sample Image\", img)\n",
    "# Lets close the image\n",
    "cv2.waitKey(0)\n",
    "cv2.destroyAllWindows()"
   ]
  },
  {
   "cell_type": "code",
   "execution_count": 8,
   "id": "976908e2",
   "metadata": {},
   "outputs": [
    {
     "name": "stdout",
     "output_type": "stream",
     "text": [
      " \n",
      "\n",
      " \n",
      "\n",
      "People ask me whak advice T have fora\n",
      "married couple skruggling in their relaHonship.\n",
      "__T always answer : pray anc_forgive .\n",
      "And_young people From violent homes,\n",
      "Tsay :\n",
      "\n",
      " \n",
      "\n",
      " \n",
      "\n",
      " \n",
      "\n",
      " \n",
      "\n",
      " \n",
      "\n",
      " \n",
      "\n",
      " \n",
      "\n",
      " \n",
      "\n",
      " \n",
      "\n",
      " \n",
      "\f",
      "\n"
     ]
    }
   ],
   "source": [
    "# Lets convert the image to text\n",
    "text = pytesseract.image_to_string(img)\n",
    "print(text)"
   ]
  },
  {
   "cell_type": "markdown",
   "id": "4eb5dfad",
   "metadata": {},
   "source": [
    "Its not working,maybe we need to do some filtering or adjust the parameters. So, we can see that this library works well if the images are clear and background is white."
   ]
  }
 ],
 "metadata": {
  "kernelspec": {
   "display_name": "Python 3 (ipykernel)",
   "language": "python",
   "name": "python3"
  },
  "language_info": {
   "codemirror_mode": {
    "name": "ipython",
    "version": 3
   },
   "file_extension": ".py",
   "mimetype": "text/x-python",
   "name": "python",
   "nbconvert_exporter": "python",
   "pygments_lexer": "ipython3",
   "version": "3.7.11"
  }
 },
 "nbformat": 4,
 "nbformat_minor": 5
}
